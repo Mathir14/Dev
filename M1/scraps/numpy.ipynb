{
 "cells": [
  {
   "cell_type": "code",
   "execution_count": 1,
   "id": "38cb407a-7ce9-4d62-9344-75bbb93a8a8d",
   "metadata": {},
   "outputs": [],
   "source": [
    "import numpy as np"
   ]
  },
  {
   "cell_type": "code",
   "execution_count": 2,
   "id": "e321a683-2506-4a08-825f-89d37016f677",
   "metadata": {},
   "outputs": [],
   "source": [
    "arr = np.arange(100)/100"
   ]
  },
  {
   "cell_type": "code",
   "execution_count": 3,
   "id": "4f802c05-30ac-445c-9c6e-735dc868ed4e",
   "metadata": {},
   "outputs": [
    {
     "data": {
      "text/plain": [
       "array([0.  , 0.01, 0.02, 0.03, 0.04, 0.05, 0.06, 0.07, 0.08, 0.09, 0.1 ,\n",
       "       0.11, 0.12, 0.13, 0.14, 0.15, 0.16, 0.17, 0.18, 0.19, 0.2 , 0.21,\n",
       "       0.22, 0.23, 0.24, 0.25, 0.26, 0.27, 0.28, 0.29, 0.3 , 0.31, 0.32,\n",
       "       0.33, 0.34, 0.35, 0.36, 0.37, 0.38, 0.39, 0.4 , 0.41, 0.42, 0.43,\n",
       "       0.44, 0.45, 0.46, 0.47, 0.48, 0.49, 0.5 , 0.51, 0.52, 0.53, 0.54,\n",
       "       0.55, 0.56, 0.57, 0.58, 0.59, 0.6 , 0.61, 0.62, 0.63, 0.64, 0.65,\n",
       "       0.66, 0.67, 0.68, 0.69, 0.7 , 0.71, 0.72, 0.73, 0.74, 0.75, 0.76,\n",
       "       0.77, 0.78, 0.79, 0.8 , 0.81, 0.82, 0.83, 0.84, 0.85, 0.86, 0.87,\n",
       "       0.88, 0.89, 0.9 , 0.91, 0.92, 0.93, 0.94, 0.95, 0.96, 0.97, 0.98,\n",
       "       0.99])"
      ]
     },
     "execution_count": 3,
     "metadata": {},
     "output_type": "execute_result"
    }
   ],
   "source": [
    "arr"
   ]
  },
  {
   "cell_type": "code",
   "execution_count": 4,
   "id": "15e95a09-6308-4479-bd3e-c4e149bb6533",
   "metadata": {},
   "outputs": [
    {
     "data": {
      "text/plain": [
       "array([0.  , 0.01, 0.02, 0.03, 0.04])"
      ]
     },
     "execution_count": 4,
     "metadata": {},
     "output_type": "execute_result"
    }
   ],
   "source": [
    "arr[:5]"
   ]
  },
  {
   "cell_type": "code",
   "execution_count": 5,
   "id": "4b3571d6-acff-4911-a801-803f8993728d",
   "metadata": {},
   "outputs": [],
   "source": [
    "avg = arr.mean()"
   ]
  },
  {
   "cell_type": "code",
   "execution_count": 6,
   "id": "a7509527-db51-45cb-ac05-1f99fc83bbb4",
   "metadata": {},
   "outputs": [
    {
     "data": {
      "text/plain": [
       "np.float64(0.49499999999999994)"
      ]
     },
     "execution_count": 6,
     "metadata": {},
     "output_type": "execute_result"
    }
   ],
   "source": [
    "avg"
   ]
  },
  {
   "cell_type": "code",
   "execution_count": 10,
   "id": "28b3a5a5-de3b-4ec7-ab64-52f898310a6b",
   "metadata": {},
   "outputs": [],
   "source": [
    "arr = np.arange(100000)"
   ]
  },
  {
   "cell_type": "code",
   "execution_count": 11,
   "id": "d1c024d8-cd7e-4186-869f-271a24ad9dab",
   "metadata": {},
   "outputs": [
    {
     "data": {
      "text/plain": [
       "np.float64(49999.5)"
      ]
     },
     "execution_count": 11,
     "metadata": {},
     "output_type": "execute_result"
    }
   ],
   "source": [
    "arr.mean()"
   ]
  },
  {
   "cell_type": "code",
   "execution_count": 12,
   "id": "4a6591fe-e545-45f8-96bb-7357455cf2ae",
   "metadata": {},
   "outputs": [],
   "source": [
    "arr = np.array([1,2,3,4,5])"
   ]
  },
  {
   "cell_type": "code",
   "execution_count": 13,
   "id": "ae8278dc-69d5-4f55-a6bf-7fc90f738072",
   "metadata": {},
   "outputs": [
    {
     "data": {
      "text/plain": [
       "1"
      ]
     },
     "execution_count": 13,
     "metadata": {},
     "output_type": "execute_result"
    }
   ],
   "source": [
    "arr.ndim"
   ]
  },
  {
   "cell_type": "code",
   "execution_count": 14,
   "id": "5e593890-ef49-4946-9d9f-232dbf22f7dc",
   "metadata": {},
   "outputs": [
    {
     "data": {
      "text/plain": [
       "(5,)"
      ]
     },
     "execution_count": 14,
     "metadata": {},
     "output_type": "execute_result"
    }
   ],
   "source": [
    "arr.shape"
   ]
  },
  {
   "cell_type": "code",
   "execution_count": 16,
   "id": "7cdf4eaf-0d42-4d82-a0d6-4adaaa29ce8d",
   "metadata": {},
   "outputs": [],
   "source": [
    "arr_2d = np.array([[1,2],[3,4]])"
   ]
  },
  {
   "cell_type": "code",
   "execution_count": 17,
   "id": "6a4cc803-8591-4680-84e4-f82ad7121146",
   "metadata": {},
   "outputs": [
    {
     "data": {
      "text/plain": [
       "array([[1, 2],\n",
       "       [3, 4]])"
      ]
     },
     "execution_count": 17,
     "metadata": {},
     "output_type": "execute_result"
    }
   ],
   "source": [
    "arr_2d"
   ]
  },
  {
   "cell_type": "code",
   "execution_count": 18,
   "id": "a0caa7de-4b5b-4264-b958-9d743e92d613",
   "metadata": {},
   "outputs": [
    {
     "data": {
      "text/plain": [
       "2"
      ]
     },
     "execution_count": 18,
     "metadata": {},
     "output_type": "execute_result"
    }
   ],
   "source": [
    "arr_2d.ndim"
   ]
  },
  {
   "cell_type": "code",
   "execution_count": 19,
   "id": "89a97714-f336-4ae3-a23c-0abd6274fbaf",
   "metadata": {},
   "outputs": [
    {
     "data": {
      "text/plain": [
       "(2, 2)"
      ]
     },
     "execution_count": 19,
     "metadata": {},
     "output_type": "execute_result"
    }
   ],
   "source": [
    "arr_2d.shape"
   ]
  },
  {
   "cell_type": "code",
   "execution_count": 20,
   "id": "b033d4b0-d0f1-4122-a657-0a262c775494",
   "metadata": {},
   "outputs": [
    {
     "data": {
      "text/plain": [
       "4"
      ]
     },
     "execution_count": 20,
     "metadata": {},
     "output_type": "execute_result"
    }
   ],
   "source": [
    "arr_2d.size"
   ]
  },
  {
   "cell_type": "code",
   "execution_count": 25,
   "id": "0b72ec09-1edf-4c37-8a25-66424f3a2912",
   "metadata": {},
   "outputs": [],
   "source": [
    "arr_3d = np.array([\n",
    "    [\n",
    "        [1,2,3],\n",
    "        [4,5,6],\n",
    "        [7,8,9]],\n",
    "    [\n",
    "        [0,1,2],\n",
    "        [5,4,2],\n",
    "        [9,8,7]]\n",
    "])"
   ]
  },
  {
   "cell_type": "code",
   "execution_count": 26,
   "id": "c7d3ad25-c144-41c9-bd4f-93347284ed24",
   "metadata": {},
   "outputs": [
    {
     "data": {
      "text/plain": [
       "array([[[1, 2, 3],\n",
       "        [4, 5, 6],\n",
       "        [7, 8, 9]],\n",
       "\n",
       "       [[0, 1, 2],\n",
       "        [5, 4, 2],\n",
       "        [9, 8, 7]]])"
      ]
     },
     "execution_count": 26,
     "metadata": {},
     "output_type": "execute_result"
    }
   ],
   "source": [
    "arr_3d"
   ]
  },
  {
   "cell_type": "code",
   "execution_count": 27,
   "id": "bd34a6bf-f223-4bee-8a8e-4f15c18d9d72",
   "metadata": {},
   "outputs": [
    {
     "data": {
      "text/plain": [
       "(2, 3, 3)"
      ]
     },
     "execution_count": 27,
     "metadata": {},
     "output_type": "execute_result"
    }
   ],
   "source": [
    "arr_3d.shape"
   ]
  },
  {
   "cell_type": "code",
   "execution_count": 28,
   "id": "d45fbeba-86ee-4741-afbc-2a423e90c69b",
   "metadata": {},
   "outputs": [
    {
     "data": {
      "text/plain": [
       "3"
      ]
     },
     "execution_count": 28,
     "metadata": {},
     "output_type": "execute_result"
    }
   ],
   "source": [
    "arr_3d.ndim"
   ]
  },
  {
   "cell_type": "code",
   "execution_count": 29,
   "id": "e05b4f09-14f0-49db-b73c-51a037ed4411",
   "metadata": {},
   "outputs": [
    {
     "data": {
      "text/plain": [
       "18"
      ]
     },
     "execution_count": 29,
     "metadata": {},
     "output_type": "execute_result"
    }
   ],
   "source": [
    "arr_3d.size"
   ]
  },
  {
   "cell_type": "code",
   "execution_count": 39,
   "id": "b4bc011d-80e7-4330-8208-fdda7a64602b",
   "metadata": {},
   "outputs": [
    {
     "data": {
      "text/plain": [
       "array([[[0, 0, 0],\n",
       "        [0, 0, 0],\n",
       "        [0, 0, 0]],\n",
       "\n",
       "       [[0, 0, 0],\n",
       "        [0, 0, 0],\n",
       "        [0, 0, 0]],\n",
       "\n",
       "       [[0, 0, 0],\n",
       "        [0, 0, 0],\n",
       "        [0, 0, 0]]], dtype=int32)"
      ]
     },
     "execution_count": 39,
     "metadata": {},
     "output_type": "execute_result"
    }
   ],
   "source": [
    "np.zeros((3,3,3),dtype = 'int32')"
   ]
  },
  {
   "cell_type": "code",
   "execution_count": 41,
   "id": "025eb2ec-246e-4b4a-8287-f2192efd009f",
   "metadata": {},
   "outputs": [
    {
     "data": {
      "text/plain": [
       "array([[[1, 1, 1],\n",
       "        [1, 1, 1],\n",
       "        [1, 1, 1]],\n",
       "\n",
       "       [[1, 1, 1],\n",
       "        [1, 1, 1],\n",
       "        [1, 1, 1]],\n",
       "\n",
       "       [[1, 1, 1],\n",
       "        [1, 1, 1],\n",
       "        [1, 1, 1]]], dtype=int32)"
      ]
     },
     "execution_count": 41,
     "metadata": {},
     "output_type": "execute_result"
    }
   ],
   "source": [
    "np.full((3,3,3),fill_value = 1, dtype = 'int32')"
   ]
  },
  {
   "cell_type": "code",
   "execution_count": 43,
   "id": "e1d69698-1d54-4349-af48-3c289a640259",
   "metadata": {},
   "outputs": [
    {
     "data": {
      "text/plain": [
       "array([0. , 0.1, 0.2, 0.3, 0.4, 0.5, 0.6, 0.7, 0.8, 0.9, 1. , 1.1, 1.2,\n",
       "       1.3, 1.4, 1.5, 1.6, 1.7, 1.8, 1.9, 2. , 2.1, 2.2, 2.3, 2.4, 2.5,\n",
       "       2.6, 2.7, 2.8, 2.9, 3. , 3.1, 3.2, 3.3, 3.4, 3.5, 3.6, 3.7, 3.8,\n",
       "       3.9, 4. , 4.1, 4.2, 4.3, 4.4, 4.5, 4.6, 4.7, 4.8, 4.9])"
      ]
     },
     "execution_count": 43,
     "metadata": {},
     "output_type": "execute_result"
    }
   ],
   "source": [
    "np.arange(0,5,0.1,'float')"
   ]
  },
  {
   "cell_type": "code",
   "execution_count": 45,
   "id": "db4baf4d-8f68-4737-aa20-51701941f67a",
   "metadata": {},
   "outputs": [
    {
     "data": {
      "text/plain": [
       "array([ 0.,  1.,  2.,  3.,  4.,  5.,  6.,  7.,  8.,  9., 10.])"
      ]
     },
     "execution_count": 45,
     "metadata": {},
     "output_type": "execute_result"
    }
   ],
   "source": [
    "np.arange(11, dtype = 'float')"
   ]
  },
  {
   "cell_type": "code",
   "execution_count": 46,
   "id": "d3f34a36-a39c-42a4-9353-703288bb40a6",
   "metadata": {},
   "outputs": [
    {
     "data": {
      "text/plain": [
       "array([[[9, 8, 3],\n",
       "        [2, 5, 8],\n",
       "        [4, 4, 1]],\n",
       "\n",
       "       [[5, 7, 9],\n",
       "        [1, 2, 1],\n",
       "        [6, 9, 4]],\n",
       "\n",
       "       [[6, 3, 2],\n",
       "        [4, 2, 7],\n",
       "        [8, 8, 6]]])"
      ]
     },
     "execution_count": 46,
     "metadata": {},
     "output_type": "execute_result"
    }
   ],
   "source": [
    "np.random.randint(low = 1, high = 10, size = (3,3,3))"
   ]
  },
  {
   "cell_type": "code",
   "execution_count": 47,
   "id": "ab837c3c-95a1-495f-b6cb-ee6680c28cbe",
   "metadata": {},
   "outputs": [
    {
     "data": {
      "text/plain": [
       "np.int64(1)"
      ]
     },
     "execution_count": 47,
     "metadata": {},
     "output_type": "execute_result"
    }
   ],
   "source": [
    "arr[0]"
   ]
  },
  {
   "cell_type": "code",
   "execution_count": 48,
   "id": "78a4fd2f-010b-4d6a-aa7c-a601a4ad0d66",
   "metadata": {},
   "outputs": [
    {
     "data": {
      "text/plain": [
       "array([[1, 2, 3],\n",
       "       [4, 5, 6],\n",
       "       [7, 8, 9]])"
      ]
     },
     "execution_count": 48,
     "metadata": {},
     "output_type": "execute_result"
    }
   ],
   "source": [
    "arr_3d[0]"
   ]
  },
  {
   "cell_type": "code",
   "execution_count": 49,
   "id": "fcb025fc-7b3e-43ad-8d7c-a5380f80706e",
   "metadata": {},
   "outputs": [
    {
     "data": {
      "text/plain": [
       "array([1, 2, 3])"
      ]
     },
     "execution_count": 49,
     "metadata": {},
     "output_type": "execute_result"
    }
   ],
   "source": [
    "arr_3d[0][0]"
   ]
  },
  {
   "cell_type": "code",
   "execution_count": 51,
   "id": "45a9c45d-8191-4278-8b23-bb58fbca368f",
   "metadata": {},
   "outputs": [
    {
     "data": {
      "text/plain": [
       "np.int64(4)"
      ]
     },
     "execution_count": 51,
     "metadata": {},
     "output_type": "execute_result"
    }
   ],
   "source": [
    "arr_3d[1][1][1]"
   ]
  },
  {
   "cell_type": "code",
   "execution_count": 52,
   "id": "6ac7f1e7-52f6-4dc6-a84a-2e082fda6d57",
   "metadata": {},
   "outputs": [
    {
     "data": {
      "text/plain": [
       "array([[[1, 2, 3],\n",
       "        [4, 5, 6],\n",
       "        [7, 8, 9]],\n",
       "\n",
       "       [[0, 1, 2],\n",
       "        [5, 4, 2],\n",
       "        [9, 8, 7]]])"
      ]
     },
     "execution_count": 52,
     "metadata": {},
     "output_type": "execute_result"
    }
   ],
   "source": [
    "arr_3d"
   ]
  },
  {
   "cell_type": "code",
   "execution_count": 53,
   "id": "862e4e68-14ff-4e1c-897a-7175ec6b985a",
   "metadata": {},
   "outputs": [
    {
     "data": {
      "text/plain": [
       "np.int64(5)"
      ]
     },
     "execution_count": 53,
     "metadata": {},
     "output_type": "execute_result"
    }
   ],
   "source": [
    "arr_3d[1][1][0]"
   ]
  },
  {
   "cell_type": "code",
   "execution_count": 54,
   "id": "3cf77185-9fa8-4605-96f1-3119b57af2d5",
   "metadata": {},
   "outputs": [],
   "source": [
    "arr_3d[1][1][2] = 4"
   ]
  },
  {
   "cell_type": "code",
   "execution_count": 55,
   "id": "8594c1b1-34b4-413d-9e8d-b60d651876b3",
   "metadata": {},
   "outputs": [
    {
     "data": {
      "text/plain": [
       "array([[[1, 2, 3],\n",
       "        [4, 5, 6],\n",
       "        [7, 8, 9]],\n",
       "\n",
       "       [[0, 1, 2],\n",
       "        [5, 4, 4],\n",
       "        [9, 8, 7]]])"
      ]
     },
     "execution_count": 55,
     "metadata": {},
     "output_type": "execute_result"
    }
   ],
   "source": [
    "arr_3d"
   ]
  },
  {
   "cell_type": "code",
   "execution_count": 66,
   "id": "b4629173-ed7d-4354-ac90-b32443bbc814",
   "metadata": {},
   "outputs": [
    {
     "data": {
      "text/plain": [
       "np.int64(5)"
      ]
     },
     "execution_count": 66,
     "metadata": {},
     "output_type": "execute_result"
    }
   ],
   "source": [
    "arr_3d[1,1,0]"
   ]
  },
  {
   "cell_type": "code",
   "execution_count": 76,
   "id": "529f2435-361e-4f05-ad39-aa966c4790e1",
   "metadata": {},
   "outputs": [
    {
     "data": {
      "text/plain": [
       "array([[[0, 1, 2],\n",
       "        [5, 4, 4],\n",
       "        [9, 8, 7]],\n",
       "\n",
       "       [[0, 1, 2],\n",
       "        [5, 4, 4],\n",
       "        [9, 8, 7]],\n",
       "\n",
       "       [[0, 1, 2],\n",
       "        [5, 4, 4],\n",
       "        [9, 8, 7]]])"
      ]
     },
     "execution_count": 76,
     "metadata": {},
     "output_type": "execute_result"
    }
   ],
   "source": [
    "arr_3d[[1,1,1]]"
   ]
  },
  {
   "cell_type": "code",
   "execution_count": 71,
   "id": "99b899de-c14b-4d8c-a7e0-bab5d5e90480",
   "metadata": {},
   "outputs": [
    {
     "data": {
      "text/plain": [
       "array([[[1, 2, 3],\n",
       "        [4, 5, 6],\n",
       "        [7, 8, 9]],\n",
       "\n",
       "       [[0, 1, 2],\n",
       "        [5, 4, 4],\n",
       "        [9, 8, 7]]])"
      ]
     },
     "execution_count": 71,
     "metadata": {},
     "output_type": "execute_result"
    }
   ],
   "source": [
    "arr_3d"
   ]
  },
  {
   "cell_type": "code",
   "execution_count": 77,
   "id": "7ae0994e-f83f-483f-b1f8-f19ae161255e",
   "metadata": {},
   "outputs": [
    {
     "data": {
      "text/plain": [
       "3"
      ]
     },
     "execution_count": 77,
     "metadata": {},
     "output_type": "execute_result"
    }
   ],
   "source": [
    "arr_3d.ndim"
   ]
  },
  {
   "cell_type": "code",
   "execution_count": 79,
   "id": "db7aed78-957c-4004-a2df-fe5fbb213d22",
   "metadata": {},
   "outputs": [
    {
     "data": {
      "text/plain": [
       "array([[[1, 2, 3],\n",
       "        [4, 5, 6],\n",
       "        [7, 8, 9]],\n",
       "\n",
       "       [[0, 1, 2],\n",
       "        [5, 4, 4],\n",
       "        [9, 8, 7]]])"
      ]
     },
     "execution_count": 79,
     "metadata": {},
     "output_type": "execute_result"
    }
   ],
   "source": [
    "arr_3d[0:]"
   ]
  },
  {
   "cell_type": "code",
   "execution_count": 80,
   "id": "895e2141-2408-4ea9-b860-d9e152d19327",
   "metadata": {},
   "outputs": [
    {
     "data": {
      "text/plain": [
       "array([[1, 2, 3],\n",
       "       [4, 5, 6],\n",
       "       [7, 8, 9]])"
      ]
     },
     "execution_count": 80,
     "metadata": {},
     "output_type": "execute_result"
    }
   ],
   "source": [
    "arr_3d[0]"
   ]
  },
  {
   "cell_type": "code",
   "execution_count": 81,
   "id": "38029378-ef4a-40fe-b8ca-f807edb5c97f",
   "metadata": {},
   "outputs": [
    {
     "data": {
      "text/plain": [
       "array([1, 2, 3])"
      ]
     },
     "execution_count": 81,
     "metadata": {},
     "output_type": "execute_result"
    }
   ],
   "source": [
    "arr_3d[0,0]"
   ]
  },
  {
   "cell_type": "code",
   "execution_count": 83,
   "id": "d1207e7c-65e7-41ed-b91f-931373c12fef",
   "metadata": {},
   "outputs": [
    {
     "data": {
      "text/plain": [
       "array([[1, 2],\n",
       "       [3, 4]])"
      ]
     },
     "execution_count": 83,
     "metadata": {},
     "output_type": "execute_result"
    }
   ],
   "source": [
    "arr_2d"
   ]
  },
  {
   "cell_type": "code",
   "execution_count": 87,
   "id": "3ad8aa98-4978-47d6-83bf-89c4c1af626d",
   "metadata": {},
   "outputs": [
    {
     "data": {
      "text/plain": [
       "np.int64(4)"
      ]
     },
     "execution_count": 87,
     "metadata": {},
     "output_type": "execute_result"
    }
   ],
   "source": [
    "arr_2d[1,-1]"
   ]
  },
  {
   "cell_type": "code",
   "execution_count": 94,
   "id": "5f453adf-b055-4077-9002-eebba1e57525",
   "metadata": {},
   "outputs": [
    {
     "data": {
      "text/plain": [
       "array([5, 7])"
      ]
     },
     "execution_count": 94,
     "metadata": {},
     "output_type": "execute_result"
    }
   ],
   "source": [
    "arr_3d[[0,1],[1,2],[1,2]]"
   ]
  },
  {
   "cell_type": "code",
   "execution_count": 96,
   "id": "44dbb92d-5ca3-4dc9-a4a7-470a6f2bbde4",
   "metadata": {},
   "outputs": [
    {
     "data": {
      "text/plain": [
       "array([5, 7])"
      ]
     },
     "execution_count": 96,
     "metadata": {},
     "output_type": "execute_result"
    }
   ],
   "source": [
    "arr_3d[0,[1,2],[1,0]]"
   ]
  },
  {
   "cell_type": "code",
   "execution_count": 107,
   "id": "8f71c5d8-c7d3-4d2c-9603-2df229f29349",
   "metadata": {},
   "outputs": [
    {
     "data": {
      "text/plain": [
       "array([[1, 2],\n",
       "       [4, 5]])"
      ]
     },
     "execution_count": 107,
     "metadata": {},
     "output_type": "execute_result"
    }
   ],
   "source": [
    "arr_3d[0,0:2,0:2]"
   ]
  },
  {
   "cell_type": "code",
   "execution_count": 109,
   "id": "58a94b01-7bda-48aa-9383-dc78bdf40e75",
   "metadata": {},
   "outputs": [],
   "source": [
    "test_arr = np.random.randint(low = 0, high = 4, size = (2,2))"
   ]
  },
  {
   "cell_type": "code",
   "execution_count": 110,
   "id": "630b52fc-bcf2-4fa6-9a39-074f1e513379",
   "metadata": {},
   "outputs": [
    {
     "data": {
      "text/plain": [
       "array([[2, 1],\n",
       "       [0, 3]])"
      ]
     },
     "execution_count": 110,
     "metadata": {},
     "output_type": "execute_result"
    }
   ],
   "source": [
    "test_arr"
   ]
  },
  {
   "cell_type": "code",
   "execution_count": 111,
   "id": "3d39f364-b6aa-4032-8284-be4b5dc88c7e",
   "metadata": {},
   "outputs": [
    {
     "data": {
      "text/plain": [
       "array([[3, 2],\n",
       "       [1, 4]])"
      ]
     },
     "execution_count": 111,
     "metadata": {},
     "output_type": "execute_result"
    }
   ],
   "source": [
    "test_arr + 1"
   ]
  },
  {
   "cell_type": "code",
   "execution_count": 112,
   "id": "d2af51ef-4203-4162-b0d5-b34a4dfb52e2",
   "metadata": {},
   "outputs": [
    {
     "data": {
      "text/plain": [
       "array([[4, 2],\n",
       "       [0, 6]])"
      ]
     },
     "execution_count": 112,
     "metadata": {},
     "output_type": "execute_result"
    }
   ],
   "source": [
    "test_arr * 2"
   ]
  },
  {
   "cell_type": "code",
   "execution_count": 113,
   "id": "bc61998a-eb09-4114-a3a2-e9759b1dac31",
   "metadata": {},
   "outputs": [
    {
     "data": {
      "text/plain": [
       "array([[1. , 0.5],\n",
       "       [0. , 1.5]])"
      ]
     },
     "execution_count": 113,
     "metadata": {},
     "output_type": "execute_result"
    }
   ],
   "source": [
    "test_arr / 2"
   ]
  },
  {
   "cell_type": "code",
   "execution_count": 115,
   "id": "bab3dcab-51ea-4677-af04-bf47a56c4ae4",
   "metadata": {},
   "outputs": [],
   "source": [
    "test = np.array([[10,10],[10,10]])"
   ]
  },
  {
   "cell_type": "code",
   "execution_count": 116,
   "id": "a5d075a7-97e8-4334-942f-2cb4a8a0b5dd",
   "metadata": {},
   "outputs": [
    {
     "data": {
      "text/plain": [
       "array([[30, 30],\n",
       "       [30, 30]])"
      ]
     },
     "execution_count": 116,
     "metadata": {},
     "output_type": "execute_result"
    }
   ],
   "source": [
    "test_arr @ test"
   ]
  },
  {
   "cell_type": "code",
   "execution_count": 117,
   "id": "d0d66826-1b05-48ba-a60d-b4958e26ee17",
   "metadata": {},
   "outputs": [
    {
     "data": {
      "text/plain": [
       "array([[2, 1],\n",
       "       [0, 3]])"
      ]
     },
     "execution_count": 117,
     "metadata": {},
     "output_type": "execute_result"
    }
   ],
   "source": [
    "test_arr"
   ]
  },
  {
   "cell_type": "code",
   "execution_count": 118,
   "id": "a8227b6d-96af-4434-a16d-86f289dacf67",
   "metadata": {},
   "outputs": [],
   "source": [
    "dailywts = 185 - np.arange(5*7)/5"
   ]
  },
  {
   "cell_type": "code",
   "execution_count": 119,
   "id": "36142167-b61e-4797-a838-85b1df9ecc76",
   "metadata": {},
   "outputs": [
    {
     "data": {
      "text/plain": [
       "array([185. , 184.8, 184.6, 184.4, 184.2, 184. , 183.8, 183.6, 183.4,\n",
       "       183.2, 183. , 182.8, 182.6, 182.4, 182.2, 182. , 181.8, 181.6,\n",
       "       181.4, 181.2, 181. , 180.8, 180.6, 180.4, 180.2, 180. , 179.8,\n",
       "       179.6, 179.4, 179.2, 179. , 178.8, 178.6, 178.4, 178.2])"
      ]
     },
     "execution_count": 119,
     "metadata": {},
     "output_type": "execute_result"
    }
   ],
   "source": [
    "185 - np.arange(35)/5"
   ]
  },
  {
   "cell_type": "code",
   "execution_count": 120,
   "id": "383a1fd2-09b5-40bc-a8fa-1464d062e49f",
   "metadata": {},
   "outputs": [
    {
     "data": {
      "text/plain": [
       "array([185. , 184.8, 184.6, 184.4, 184.2, 184. , 183.8, 183.6, 183.4,\n",
       "       183.2, 183. , 182.8, 182.6, 182.4, 182.2, 182. , 181.8, 181.6,\n",
       "       181.4, 181.2, 181. , 180.8, 180.6, 180.4, 180.2, 180. , 179.8,\n",
       "       179.6, 179.4, 179.2, 179. , 178.8, 178.6, 178.4, 178.2])"
      ]
     },
     "execution_count": 120,
     "metadata": {},
     "output_type": "execute_result"
    }
   ],
   "source": [
    "dailywts"
   ]
  },
  {
   "cell_type": "code",
   "execution_count": 126,
   "id": "4206ebf1-9c48-4738-af2c-674aa1b2402f",
   "metadata": {},
   "outputs": [],
   "source": [
    "avg = (dailywts[5::7] + dailywts[6::7]) / 2"
   ]
  },
  {
   "cell_type": "code",
   "execution_count": 127,
   "id": "a5a7db5d-afd9-43f0-af61-a6d2acb7d952",
   "metadata": {},
   "outputs": [
    {
     "data": {
      "text/plain": [
       "array([183.9, 182.5, 181.1, 179.7, 178.3])"
      ]
     },
     "execution_count": 127,
     "metadata": {},
     "output_type": "execute_result"
    }
   ],
   "source": [
    "avg"
   ]
  },
  {
   "cell_type": "code",
   "execution_count": 128,
   "id": "44fefb62-c711-4a5e-87ed-877b9cba743b",
   "metadata": {},
   "outputs": [],
   "source": [
    "np.random.seed(5555)"
   ]
  },
  {
   "cell_type": "code",
   "execution_count": 129,
   "id": "33e69030-89a3-4850-84a2-e3fc0a24388f",
   "metadata": {},
   "outputs": [],
   "source": [
    "gold = np.random.randint(low = 0, high = 10, size = (7,7))"
   ]
  },
  {
   "cell_type": "code",
   "execution_count": 131,
   "id": "da319e4b-f21b-447a-955d-8386c5e231e6",
   "metadata": {},
   "outputs": [],
   "source": [
    "loc = np.array([\n",
    "    [0,4],\n",
    "    [2,2],\n",
    "    [2,3],\n",
    "    [5,1],\n",
    "    [6,3]\n",
    "])"
   ]
  },
  {
   "cell_type": "code",
   "execution_count": 132,
   "id": "46ba56a4-dc75-4b9b-b8c5-bcf155dcb418",
   "metadata": {},
   "outputs": [
    {
     "data": {
      "text/plain": [
       "array([0, 2, 2, 5, 6])"
      ]
     },
     "execution_count": 132,
     "metadata": {},
     "output_type": "execute_result"
    }
   ],
   "source": [
    "loc[:,0]"
   ]
  },
  {
   "cell_type": "code",
   "execution_count": 133,
   "id": "93998fbf-5089-41f9-b0d3-393bd33c534a",
   "metadata": {},
   "outputs": [
    {
     "data": {
      "text/plain": [
       "array([4, 2, 3, 1, 3])"
      ]
     },
     "execution_count": 133,
     "metadata": {},
     "output_type": "execute_result"
    }
   ],
   "source": [
    "loc[:,1]"
   ]
  },
  {
   "cell_type": "code",
   "execution_count": 134,
   "id": "91fa7d70-138c-4670-827d-a09fd20b6414",
   "metadata": {},
   "outputs": [
    {
     "data": {
      "text/plain": [
       "np.int64(2)"
      ]
     },
     "execution_count": 134,
     "metadata": {},
     "output_type": "execute_result"
    }
   ],
   "source": [
    "gold[0,4]"
   ]
  },
  {
   "cell_type": "code",
   "execution_count": 136,
   "id": "123db202-a7fa-4d90-8d9f-5c875aba7a52",
   "metadata": {},
   "outputs": [
    {
     "data": {
      "text/plain": [
       "np.int64(20)"
      ]
     },
     "execution_count": 136,
     "metadata": {},
     "output_type": "execute_result"
    }
   ],
   "source": [
    "sum(gold[loc[:,0],loc[:,1]])"
   ]
  },
  {
   "cell_type": "code",
   "execution_count": 138,
   "id": "6338a78c-fab3-47b3-a516-455c9348e51a",
   "metadata": {},
   "outputs": [],
   "source": [
    "chic_fil_a = np.linspace([17,32],[28,36], num = 3, axis = 1)"
   ]
  },
  {
   "cell_type": "code",
   "execution_count": 140,
   "id": "377a69fb-51be-4a64-81db-df9b5172b737",
   "metadata": {},
   "outputs": [],
   "source": [
    "every_dist = np.abs(chic_fil_a - 30)"
   ]
  },
  {
   "cell_type": "code",
   "execution_count": 141,
   "id": "ea0535c8-f7cf-4ecd-89ea-47d93b0bac3f",
   "metadata": {},
   "outputs": [],
   "source": [
    "c_dist = every_dist[[0,1],[2,0]]"
   ]
  },
  {
   "cell_type": "code",
   "execution_count": 143,
   "id": "e954ea45-1532-4b80-a059-9f94e0468c2c",
   "metadata": {},
   "outputs": [
    {
     "data": {
      "text/plain": [
       "array([2., 2.])"
      ]
     },
     "execution_count": 143,
     "metadata": {},
     "output_type": "execute_result"
    }
   ],
   "source": [
    "c_dist"
   ]
  }
 ],
 "metadata": {
  "kernelspec": {
   "display_name": "Python 3 (ipykernel)",
   "language": "python",
   "name": "python3"
  },
  "language_info": {
   "codemirror_mode": {
    "name": "ipython",
    "version": 3
   },
   "file_extension": ".py",
   "mimetype": "text/x-python",
   "name": "python",
   "nbconvert_exporter": "python",
   "pygments_lexer": "ipython3",
   "version": "3.13.7"
  }
 },
 "nbformat": 4,
 "nbformat_minor": 5
}
