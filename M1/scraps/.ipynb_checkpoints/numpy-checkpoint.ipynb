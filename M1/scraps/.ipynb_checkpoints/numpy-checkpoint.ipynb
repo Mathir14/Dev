{
 "cells": [
  {
   "cell_type": "code",
   "execution_count": 2,
   "id": "38cb407a-7ce9-4d62-9344-75bbb93a8a8d",
   "metadata": {},
   "outputs": [],
   "source": [
    "import numpy as np"
   ]
  },
  {
   "cell_type": "code",
   "execution_count": 2,
   "id": "e321a683-2506-4a08-825f-89d37016f677",
   "metadata": {},
   "outputs": [],
   "source": [
    "arr = np.arange(100)/100"
   ]
  },
  {
   "cell_type": "code",
   "execution_count": 3,
   "id": "4f802c05-30ac-445c-9c6e-735dc868ed4e",
   "metadata": {},
   "outputs": [
    {
     "data": {
      "text/plain": [
       "array([0.  , 0.01, 0.02, 0.03, 0.04, 0.05, 0.06, 0.07, 0.08, 0.09, 0.1 ,\n",
       "       0.11, 0.12, 0.13, 0.14, 0.15, 0.16, 0.17, 0.18, 0.19, 0.2 , 0.21,\n",
       "       0.22, 0.23, 0.24, 0.25, 0.26, 0.27, 0.28, 0.29, 0.3 , 0.31, 0.32,\n",
       "       0.33, 0.34, 0.35, 0.36, 0.37, 0.38, 0.39, 0.4 , 0.41, 0.42, 0.43,\n",
       "       0.44, 0.45, 0.46, 0.47, 0.48, 0.49, 0.5 , 0.51, 0.52, 0.53, 0.54,\n",
       "       0.55, 0.56, 0.57, 0.58, 0.59, 0.6 , 0.61, 0.62, 0.63, 0.64, 0.65,\n",
       "       0.66, 0.67, 0.68, 0.69, 0.7 , 0.71, 0.72, 0.73, 0.74, 0.75, 0.76,\n",
       "       0.77, 0.78, 0.79, 0.8 , 0.81, 0.82, 0.83, 0.84, 0.85, 0.86, 0.87,\n",
       "       0.88, 0.89, 0.9 , 0.91, 0.92, 0.93, 0.94, 0.95, 0.96, 0.97, 0.98,\n",
       "       0.99])"
      ]
     },
     "execution_count": 3,
     "metadata": {},
     "output_type": "execute_result"
    }
   ],
   "source": [
    "arr"
   ]
  },
  {
   "cell_type": "code",
   "execution_count": 4,
   "id": "15e95a09-6308-4479-bd3e-c4e149bb6533",
   "metadata": {},
   "outputs": [
    {
     "data": {
      "text/plain": [
       "array([0.  , 0.01, 0.02, 0.03, 0.04])"
      ]
     },
     "execution_count": 4,
     "metadata": {},
     "output_type": "execute_result"
    }
   ],
   "source": [
    "arr[:5]"
   ]
  },
  {
   "cell_type": "code",
   "execution_count": 5,
   "id": "4b3571d6-acff-4911-a801-803f8993728d",
   "metadata": {},
   "outputs": [],
   "source": [
    "avg = arr.mean()"
   ]
  },
  {
   "cell_type": "code",
   "execution_count": 6,
   "id": "a7509527-db51-45cb-ac05-1f99fc83bbb4",
   "metadata": {},
   "outputs": [
    {
     "data": {
      "text/plain": [
       "np.float64(0.49499999999999994)"
      ]
     },
     "execution_count": 6,
     "metadata": {},
     "output_type": "execute_result"
    }
   ],
   "source": [
    "avg"
   ]
  },
  {
   "cell_type": "code",
   "execution_count": 10,
   "id": "28b3a5a5-de3b-4ec7-ab64-52f898310a6b",
   "metadata": {},
   "outputs": [],
   "source": [
    "arr = np.arange(100000)"
   ]
  },
  {
   "cell_type": "code",
   "execution_count": 11,
   "id": "d1c024d8-cd7e-4186-869f-271a24ad9dab",
   "metadata": {},
   "outputs": [
    {
     "data": {
      "text/plain": [
       "np.float64(49999.5)"
      ]
     },
     "execution_count": 11,
     "metadata": {},
     "output_type": "execute_result"
    }
   ],
   "source": [
    "arr.mean()"
   ]
  },
  {
   "cell_type": "code",
   "execution_count": 12,
   "id": "4a6591fe-e545-45f8-96bb-7357455cf2ae",
   "metadata": {},
   "outputs": [],
   "source": [
    "arr = np.array([1,2,3,4,5])"
   ]
  },
  {
   "cell_type": "code",
   "execution_count": 13,
   "id": "ae8278dc-69d5-4f55-a6bf-7fc90f738072",
   "metadata": {},
   "outputs": [
    {
     "data": {
      "text/plain": [
       "1"
      ]
     },
     "execution_count": 13,
     "metadata": {},
     "output_type": "execute_result"
    }
   ],
   "source": [
    "arr.ndim"
   ]
  },
  {
   "cell_type": "code",
   "execution_count": 14,
   "id": "5e593890-ef49-4946-9d9f-232dbf22f7dc",
   "metadata": {},
   "outputs": [
    {
     "data": {
      "text/plain": [
       "(5,)"
      ]
     },
     "execution_count": 14,
     "metadata": {},
     "output_type": "execute_result"
    }
   ],
   "source": [
    "arr.shape"
   ]
  },
  {
   "cell_type": "code",
   "execution_count": 16,
   "id": "7cdf4eaf-0d42-4d82-a0d6-4adaaa29ce8d",
   "metadata": {},
   "outputs": [],
   "source": [
    "arr_2d = np.array([[1,2],[3,4]])"
   ]
  },
  {
   "cell_type": "code",
   "execution_count": 17,
   "id": "6a4cc803-8591-4680-84e4-f82ad7121146",
   "metadata": {},
   "outputs": [
    {
     "data": {
      "text/plain": [
       "array([[1, 2],\n",
       "       [3, 4]])"
      ]
     },
     "execution_count": 17,
     "metadata": {},
     "output_type": "execute_result"
    }
   ],
   "source": [
    "arr_2d"
   ]
  },
  {
   "cell_type": "code",
   "execution_count": 18,
   "id": "a0caa7de-4b5b-4264-b958-9d743e92d613",
   "metadata": {},
   "outputs": [
    {
     "data": {
      "text/plain": [
       "2"
      ]
     },
     "execution_count": 18,
     "metadata": {},
     "output_type": "execute_result"
    }
   ],
   "source": [
    "arr_2d.ndim"
   ]
  },
  {
   "cell_type": "code",
   "execution_count": 19,
   "id": "89a97714-f336-4ae3-a23c-0abd6274fbaf",
   "metadata": {},
   "outputs": [
    {
     "data": {
      "text/plain": [
       "(2, 2)"
      ]
     },
     "execution_count": 19,
     "metadata": {},
     "output_type": "execute_result"
    }
   ],
   "source": [
    "arr_2d.shape"
   ]
  },
  {
   "cell_type": "code",
   "execution_count": 20,
   "id": "b033d4b0-d0f1-4122-a657-0a262c775494",
   "metadata": {},
   "outputs": [
    {
     "data": {
      "text/plain": [
       "4"
      ]
     },
     "execution_count": 20,
     "metadata": {},
     "output_type": "execute_result"
    }
   ],
   "source": [
    "arr_2d.size"
   ]
  },
  {
   "cell_type": "code",
   "execution_count": 25,
   "id": "0b72ec09-1edf-4c37-8a25-66424f3a2912",
   "metadata": {},
   "outputs": [],
   "source": [
    "arr_3d = np.array([\n",
    "    [\n",
    "        [1,2,3],\n",
    "        [4,5,6],\n",
    "        [7,8,9]],\n",
    "    [\n",
    "        [0,1,2],\n",
    "        [5,4,2],\n",
    "        [9,8,7]]\n",
    "])"
   ]
  },
  {
   "cell_type": "code",
   "execution_count": 26,
   "id": "c7d3ad25-c144-41c9-bd4f-93347284ed24",
   "metadata": {},
   "outputs": [
    {
     "data": {
      "text/plain": [
       "array([[[1, 2, 3],\n",
       "        [4, 5, 6],\n",
       "        [7, 8, 9]],\n",
       "\n",
       "       [[0, 1, 2],\n",
       "        [5, 4, 2],\n",
       "        [9, 8, 7]]])"
      ]
     },
     "execution_count": 26,
     "metadata": {},
     "output_type": "execute_result"
    }
   ],
   "source": [
    "arr_3d"
   ]
  },
  {
   "cell_type": "code",
   "execution_count": 27,
   "id": "bd34a6bf-f223-4bee-8a8e-4f15c18d9d72",
   "metadata": {},
   "outputs": [
    {
     "data": {
      "text/plain": [
       "(2, 3, 3)"
      ]
     },
     "execution_count": 27,
     "metadata": {},
     "output_type": "execute_result"
    }
   ],
   "source": [
    "arr_3d.shape"
   ]
  },
  {
   "cell_type": "code",
   "execution_count": 28,
   "id": "d45fbeba-86ee-4741-afbc-2a423e90c69b",
   "metadata": {},
   "outputs": [
    {
     "data": {
      "text/plain": [
       "3"
      ]
     },
     "execution_count": 28,
     "metadata": {},
     "output_type": "execute_result"
    }
   ],
   "source": [
    "arr_3d.ndim"
   ]
  },
  {
   "cell_type": "code",
   "execution_count": 29,
   "id": "e05b4f09-14f0-49db-b73c-51a037ed4411",
   "metadata": {},
   "outputs": [
    {
     "data": {
      "text/plain": [
       "18"
      ]
     },
     "execution_count": 29,
     "metadata": {},
     "output_type": "execute_result"
    }
   ],
   "source": [
    "arr_3d.size"
   ]
  },
  {
   "cell_type": "code",
   "execution_count": 39,
   "id": "b4bc011d-80e7-4330-8208-fdda7a64602b",
   "metadata": {},
   "outputs": [
    {
     "data": {
      "text/plain": [
       "array([[[0, 0, 0],\n",
       "        [0, 0, 0],\n",
       "        [0, 0, 0]],\n",
       "\n",
       "       [[0, 0, 0],\n",
       "        [0, 0, 0],\n",
       "        [0, 0, 0]],\n",
       "\n",
       "       [[0, 0, 0],\n",
       "        [0, 0, 0],\n",
       "        [0, 0, 0]]], dtype=int32)"
      ]
     },
     "execution_count": 39,
     "metadata": {},
     "output_type": "execute_result"
    }
   ],
   "source": [
    "np.zeros((3,3,3),dtype = 'int32')"
   ]
  },
  {
   "cell_type": "code",
   "execution_count": 41,
   "id": "025eb2ec-246e-4b4a-8287-f2192efd009f",
   "metadata": {},
   "outputs": [
    {
     "data": {
      "text/plain": [
       "array([[[1, 1, 1],\n",
       "        [1, 1, 1],\n",
       "        [1, 1, 1]],\n",
       "\n",
       "       [[1, 1, 1],\n",
       "        [1, 1, 1],\n",
       "        [1, 1, 1]],\n",
       "\n",
       "       [[1, 1, 1],\n",
       "        [1, 1, 1],\n",
       "        [1, 1, 1]]], dtype=int32)"
      ]
     },
     "execution_count": 41,
     "metadata": {},
     "output_type": "execute_result"
    }
   ],
   "source": [
    "np.full((3,3,3),fill_value = 1, dtype = 'int32')"
   ]
  },
  {
   "cell_type": "code",
   "execution_count": 43,
   "id": "e1d69698-1d54-4349-af48-3c289a640259",
   "metadata": {},
   "outputs": [
    {
     "data": {
      "text/plain": [
       "array([0. , 0.1, 0.2, 0.3, 0.4, 0.5, 0.6, 0.7, 0.8, 0.9, 1. , 1.1, 1.2,\n",
       "       1.3, 1.4, 1.5, 1.6, 1.7, 1.8, 1.9, 2. , 2.1, 2.2, 2.3, 2.4, 2.5,\n",
       "       2.6, 2.7, 2.8, 2.9, 3. , 3.1, 3.2, 3.3, 3.4, 3.5, 3.6, 3.7, 3.8,\n",
       "       3.9, 4. , 4.1, 4.2, 4.3, 4.4, 4.5, 4.6, 4.7, 4.8, 4.9])"
      ]
     },
     "execution_count": 43,
     "metadata": {},
     "output_type": "execute_result"
    }
   ],
   "source": [
    "np.arange(0,5,0.1,'float')"
   ]
  },
  {
   "cell_type": "code",
   "execution_count": 45,
   "id": "db4baf4d-8f68-4737-aa20-51701941f67a",
   "metadata": {},
   "outputs": [
    {
     "data": {
      "text/plain": [
       "array([ 0.,  1.,  2.,  3.,  4.,  5.,  6.,  7.,  8.,  9., 10.])"
      ]
     },
     "execution_count": 45,
     "metadata": {},
     "output_type": "execute_result"
    }
   ],
   "source": [
    "np.arange(11, dtype = 'float')"
   ]
  },
  {
   "cell_type": "code",
   "execution_count": 46,
   "id": "d3f34a36-a39c-42a4-9353-703288bb40a6",
   "metadata": {},
   "outputs": [
    {
     "data": {
      "text/plain": [
       "array([[[9, 8, 3],\n",
       "        [2, 5, 8],\n",
       "        [4, 4, 1]],\n",
       "\n",
       "       [[5, 7, 9],\n",
       "        [1, 2, 1],\n",
       "        [6, 9, 4]],\n",
       "\n",
       "       [[6, 3, 2],\n",
       "        [4, 2, 7],\n",
       "        [8, 8, 6]]])"
      ]
     },
     "execution_count": 46,
     "metadata": {},
     "output_type": "execute_result"
    }
   ],
   "source": [
    "np.random.randint(low = 1, high = 10, size = (3,3,3))"
   ]
  },
  {
   "cell_type": "code",
   "execution_count": 47,
   "id": "ab837c3c-95a1-495f-b6cb-ee6680c28cbe",
   "metadata": {},
   "outputs": [
    {
     "data": {
      "text/plain": [
       "np.int64(1)"
      ]
     },
     "execution_count": 47,
     "metadata": {},
     "output_type": "execute_result"
    }
   ],
   "source": [
    "arr[0]"
   ]
  },
  {
   "cell_type": "code",
   "execution_count": 48,
   "id": "78a4fd2f-010b-4d6a-aa7c-a601a4ad0d66",
   "metadata": {},
   "outputs": [
    {
     "data": {
      "text/plain": [
       "array([[1, 2, 3],\n",
       "       [4, 5, 6],\n",
       "       [7, 8, 9]])"
      ]
     },
     "execution_count": 48,
     "metadata": {},
     "output_type": "execute_result"
    }
   ],
   "source": [
    "arr_3d[0]"
   ]
  },
  {
   "cell_type": "code",
   "execution_count": 49,
   "id": "fcb025fc-7b3e-43ad-8d7c-a5380f80706e",
   "metadata": {},
   "outputs": [
    {
     "data": {
      "text/plain": [
       "array([1, 2, 3])"
      ]
     },
     "execution_count": 49,
     "metadata": {},
     "output_type": "execute_result"
    }
   ],
   "source": [
    "arr_3d[0][0]"
   ]
  },
  {
   "cell_type": "code",
   "execution_count": 51,
   "id": "45a9c45d-8191-4278-8b23-bb58fbca368f",
   "metadata": {},
   "outputs": [
    {
     "data": {
      "text/plain": [
       "np.int64(4)"
      ]
     },
     "execution_count": 51,
     "metadata": {},
     "output_type": "execute_result"
    }
   ],
   "source": [
    "arr_3d[1][1][1]"
   ]
  },
  {
   "cell_type": "code",
   "execution_count": 52,
   "id": "6ac7f1e7-52f6-4dc6-a84a-2e082fda6d57",
   "metadata": {},
   "outputs": [
    {
     "data": {
      "text/plain": [
       "array([[[1, 2, 3],\n",
       "        [4, 5, 6],\n",
       "        [7, 8, 9]],\n",
       "\n",
       "       [[0, 1, 2],\n",
       "        [5, 4, 2],\n",
       "        [9, 8, 7]]])"
      ]
     },
     "execution_count": 52,
     "metadata": {},
     "output_type": "execute_result"
    }
   ],
   "source": [
    "arr_3d"
   ]
  },
  {
   "cell_type": "code",
   "execution_count": 53,
   "id": "862e4e68-14ff-4e1c-897a-7175ec6b985a",
   "metadata": {},
   "outputs": [
    {
     "data": {
      "text/plain": [
       "np.int64(5)"
      ]
     },
     "execution_count": 53,
     "metadata": {},
     "output_type": "execute_result"
    }
   ],
   "source": [
    "arr_3d[1][1][0]"
   ]
  },
  {
   "cell_type": "code",
   "execution_count": 54,
   "id": "3cf77185-9fa8-4605-96f1-3119b57af2d5",
   "metadata": {},
   "outputs": [],
   "source": [
    "arr_3d[1][1][2] = 4"
   ]
  },
  {
   "cell_type": "code",
   "execution_count": 55,
   "id": "8594c1b1-34b4-413d-9e8d-b60d651876b3",
   "metadata": {},
   "outputs": [
    {
     "data": {
      "text/plain": [
       "array([[[1, 2, 3],\n",
       "        [4, 5, 6],\n",
       "        [7, 8, 9]],\n",
       "\n",
       "       [[0, 1, 2],\n",
       "        [5, 4, 4],\n",
       "        [9, 8, 7]]])"
      ]
     },
     "execution_count": 55,
     "metadata": {},
     "output_type": "execute_result"
    }
   ],
   "source": [
    "arr_3d"
   ]
  },
  {
   "cell_type": "code",
   "execution_count": 66,
   "id": "b4629173-ed7d-4354-ac90-b32443bbc814",
   "metadata": {},
   "outputs": [
    {
     "data": {
      "text/plain": [
       "np.int64(5)"
      ]
     },
     "execution_count": 66,
     "metadata": {},
     "output_type": "execute_result"
    }
   ],
   "source": [
    "arr_3d[1,1,0]"
   ]
  },
  {
   "cell_type": "code",
   "execution_count": 76,
   "id": "529f2435-361e-4f05-ad39-aa966c4790e1",
   "metadata": {},
   "outputs": [
    {
     "data": {
      "text/plain": [
       "array([[[0, 1, 2],\n",
       "        [5, 4, 4],\n",
       "        [9, 8, 7]],\n",
       "\n",
       "       [[0, 1, 2],\n",
       "        [5, 4, 4],\n",
       "        [9, 8, 7]],\n",
       "\n",
       "       [[0, 1, 2],\n",
       "        [5, 4, 4],\n",
       "        [9, 8, 7]]])"
      ]
     },
     "execution_count": 76,
     "metadata": {},
     "output_type": "execute_result"
    }
   ],
   "source": [
    "arr_3d[[1,1,1]]"
   ]
  },
  {
   "cell_type": "code",
   "execution_count": 71,
   "id": "99b899de-c14b-4d8c-a7e0-bab5d5e90480",
   "metadata": {},
   "outputs": [
    {
     "data": {
      "text/plain": [
       "array([[[1, 2, 3],\n",
       "        [4, 5, 6],\n",
       "        [7, 8, 9]],\n",
       "\n",
       "       [[0, 1, 2],\n",
       "        [5, 4, 4],\n",
       "        [9, 8, 7]]])"
      ]
     },
     "execution_count": 71,
     "metadata": {},
     "output_type": "execute_result"
    }
   ],
   "source": [
    "arr_3d"
   ]
  },
  {
   "cell_type": "code",
   "execution_count": 77,
   "id": "7ae0994e-f83f-483f-b1f8-f19ae161255e",
   "metadata": {},
   "outputs": [
    {
     "data": {
      "text/plain": [
       "3"
      ]
     },
     "execution_count": 77,
     "metadata": {},
     "output_type": "execute_result"
    }
   ],
   "source": [
    "arr_3d.ndim"
   ]
  },
  {
   "cell_type": "code",
   "execution_count": 79,
   "id": "db7aed78-957c-4004-a2df-fe5fbb213d22",
   "metadata": {},
   "outputs": [
    {
     "data": {
      "text/plain": [
       "array([[[1, 2, 3],\n",
       "        [4, 5, 6],\n",
       "        [7, 8, 9]],\n",
       "\n",
       "       [[0, 1, 2],\n",
       "        [5, 4, 4],\n",
       "        [9, 8, 7]]])"
      ]
     },
     "execution_count": 79,
     "metadata": {},
     "output_type": "execute_result"
    }
   ],
   "source": [
    "arr_3d[0:]"
   ]
  },
  {
   "cell_type": "code",
   "execution_count": 80,
   "id": "895e2141-2408-4ea9-b860-d9e152d19327",
   "metadata": {},
   "outputs": [
    {
     "data": {
      "text/plain": [
       "array([[1, 2, 3],\n",
       "       [4, 5, 6],\n",
       "       [7, 8, 9]])"
      ]
     },
     "execution_count": 80,
     "metadata": {},
     "output_type": "execute_result"
    }
   ],
   "source": [
    "arr_3d[0]"
   ]
  },
  {
   "cell_type": "code",
   "execution_count": 81,
   "id": "38029378-ef4a-40fe-b8ca-f807edb5c97f",
   "metadata": {},
   "outputs": [
    {
     "data": {
      "text/plain": [
       "array([1, 2, 3])"
      ]
     },
     "execution_count": 81,
     "metadata": {},
     "output_type": "execute_result"
    }
   ],
   "source": [
    "arr_3d[0,0]"
   ]
  },
  {
   "cell_type": "code",
   "execution_count": 83,
   "id": "d1207e7c-65e7-41ed-b91f-931373c12fef",
   "metadata": {},
   "outputs": [
    {
     "data": {
      "text/plain": [
       "array([[1, 2],\n",
       "       [3, 4]])"
      ]
     },
     "execution_count": 83,
     "metadata": {},
     "output_type": "execute_result"
    }
   ],
   "source": [
    "arr_2d"
   ]
  },
  {
   "cell_type": "code",
   "execution_count": 87,
   "id": "3ad8aa98-4978-47d6-83bf-89c4c1af626d",
   "metadata": {},
   "outputs": [
    {
     "data": {
      "text/plain": [
       "np.int64(4)"
      ]
     },
     "execution_count": 87,
     "metadata": {},
     "output_type": "execute_result"
    }
   ],
   "source": [
    "arr_2d[1,-1]"
   ]
  },
  {
   "cell_type": "code",
   "execution_count": 94,
   "id": "5f453adf-b055-4077-9002-eebba1e57525",
   "metadata": {},
   "outputs": [
    {
     "data": {
      "text/plain": [
       "array([5, 7])"
      ]
     },
     "execution_count": 94,
     "metadata": {},
     "output_type": "execute_result"
    }
   ],
   "source": [
    "arr_3d[[0,1],[1,2],[1,2]]"
   ]
  },
  {
   "cell_type": "code",
   "execution_count": 96,
   "id": "44dbb92d-5ca3-4dc9-a4a7-470a6f2bbde4",
   "metadata": {},
   "outputs": [
    {
     "data": {
      "text/plain": [
       "array([5, 7])"
      ]
     },
     "execution_count": 96,
     "metadata": {},
     "output_type": "execute_result"
    }
   ],
   "source": [
    "arr_3d[0,[1,2],[1,0]]"
   ]
  },
  {
   "cell_type": "code",
   "execution_count": 107,
   "id": "8f71c5d8-c7d3-4d2c-9603-2df229f29349",
   "metadata": {},
   "outputs": [
    {
     "data": {
      "text/plain": [
       "array([[1, 2],\n",
       "       [4, 5]])"
      ]
     },
     "execution_count": 107,
     "metadata": {},
     "output_type": "execute_result"
    }
   ],
   "source": [
    "arr_3d[0,0:2,0:2]"
   ]
  },
  {
   "cell_type": "code",
   "execution_count": 109,
   "id": "58a94b01-7bda-48aa-9383-dc78bdf40e75",
   "metadata": {},
   "outputs": [],
   "source": [
    "test_arr = np.random.randint(low = 0, high = 4, size = (2,2))"
   ]
  },
  {
   "cell_type": "code",
   "execution_count": 110,
   "id": "630b52fc-bcf2-4fa6-9a39-074f1e513379",
   "metadata": {},
   "outputs": [
    {
     "data": {
      "text/plain": [
       "array([[2, 1],\n",
       "       [0, 3]])"
      ]
     },
     "execution_count": 110,
     "metadata": {},
     "output_type": "execute_result"
    }
   ],
   "source": [
    "test_arr"
   ]
  },
  {
   "cell_type": "code",
   "execution_count": 111,
   "id": "3d39f364-b6aa-4032-8284-be4b5dc88c7e",
   "metadata": {},
   "outputs": [
    {
     "data": {
      "text/plain": [
       "array([[3, 2],\n",
       "       [1, 4]])"
      ]
     },
     "execution_count": 111,
     "metadata": {},
     "output_type": "execute_result"
    }
   ],
   "source": [
    "test_arr + 1"
   ]
  },
  {
   "cell_type": "code",
   "execution_count": 112,
   "id": "d2af51ef-4203-4162-b0d5-b34a4dfb52e2",
   "metadata": {},
   "outputs": [
    {
     "data": {
      "text/plain": [
       "array([[4, 2],\n",
       "       [0, 6]])"
      ]
     },
     "execution_count": 112,
     "metadata": {},
     "output_type": "execute_result"
    }
   ],
   "source": [
    "test_arr * 2"
   ]
  },
  {
   "cell_type": "code",
   "execution_count": 113,
   "id": "bc61998a-eb09-4114-a3a2-e9759b1dac31",
   "metadata": {},
   "outputs": [
    {
     "data": {
      "text/plain": [
       "array([[1. , 0.5],\n",
       "       [0. , 1.5]])"
      ]
     },
     "execution_count": 113,
     "metadata": {},
     "output_type": "execute_result"
    }
   ],
   "source": [
    "test_arr / 2"
   ]
  },
  {
   "cell_type": "code",
   "execution_count": 115,
   "id": "bab3dcab-51ea-4677-af04-bf47a56c4ae4",
   "metadata": {},
   "outputs": [],
   "source": [
    "test = np.array([[10,10],[10,10]])"
   ]
  },
  {
   "cell_type": "code",
   "execution_count": 116,
   "id": "a5d075a7-97e8-4334-942f-2cb4a8a0b5dd",
   "metadata": {},
   "outputs": [
    {
     "data": {
      "text/plain": [
       "array([[30, 30],\n",
       "       [30, 30]])"
      ]
     },
     "execution_count": 116,
     "metadata": {},
     "output_type": "execute_result"
    }
   ],
   "source": [
    "test_arr @ test"
   ]
  },
  {
   "cell_type": "code",
   "execution_count": 117,
   "id": "d0d66826-1b05-48ba-a60d-b4958e26ee17",
   "metadata": {},
   "outputs": [
    {
     "data": {
      "text/plain": [
       "array([[2, 1],\n",
       "       [0, 3]])"
      ]
     },
     "execution_count": 117,
     "metadata": {},
     "output_type": "execute_result"
    }
   ],
   "source": [
    "test_arr"
   ]
  },
  {
   "cell_type": "code",
   "execution_count": 118,
   "id": "a8227b6d-96af-4434-a16d-86f289dacf67",
   "metadata": {},
   "outputs": [],
   "source": [
    "dailywts = 185 - np.arange(5*7)/5"
   ]
  },
  {
   "cell_type": "code",
   "execution_count": 119,
   "id": "36142167-b61e-4797-a838-85b1df9ecc76",
   "metadata": {},
   "outputs": [
    {
     "data": {
      "text/plain": [
       "array([185. , 184.8, 184.6, 184.4, 184.2, 184. , 183.8, 183.6, 183.4,\n",
       "       183.2, 183. , 182.8, 182.6, 182.4, 182.2, 182. , 181.8, 181.6,\n",
       "       181.4, 181.2, 181. , 180.8, 180.6, 180.4, 180.2, 180. , 179.8,\n",
       "       179.6, 179.4, 179.2, 179. , 178.8, 178.6, 178.4, 178.2])"
      ]
     },
     "execution_count": 119,
     "metadata": {},
     "output_type": "execute_result"
    }
   ],
   "source": [
    "185 - np.arange(35)/5"
   ]
  },
  {
   "cell_type": "code",
   "execution_count": 120,
   "id": "383a1fd2-09b5-40bc-a8fa-1464d062e49f",
   "metadata": {},
   "outputs": [
    {
     "data": {
      "text/plain": [
       "array([185. , 184.8, 184.6, 184.4, 184.2, 184. , 183.8, 183.6, 183.4,\n",
       "       183.2, 183. , 182.8, 182.6, 182.4, 182.2, 182. , 181.8, 181.6,\n",
       "       181.4, 181.2, 181. , 180.8, 180.6, 180.4, 180.2, 180. , 179.8,\n",
       "       179.6, 179.4, 179.2, 179. , 178.8, 178.6, 178.4, 178.2])"
      ]
     },
     "execution_count": 120,
     "metadata": {},
     "output_type": "execute_result"
    }
   ],
   "source": [
    "dailywts"
   ]
  },
  {
   "cell_type": "code",
   "execution_count": 126,
   "id": "4206ebf1-9c48-4738-af2c-674aa1b2402f",
   "metadata": {},
   "outputs": [],
   "source": [
    "avg = (dailywts[5::7] + dailywts[6::7]) / 2"
   ]
  },
  {
   "cell_type": "code",
   "execution_count": 127,
   "id": "a5a7db5d-afd9-43f0-af61-a6d2acb7d952",
   "metadata": {},
   "outputs": [
    {
     "data": {
      "text/plain": [
       "array([183.9, 182.5, 181.1, 179.7, 178.3])"
      ]
     },
     "execution_count": 127,
     "metadata": {},
     "output_type": "execute_result"
    }
   ],
   "source": [
    "avg"
   ]
  },
  {
   "cell_type": "code",
   "execution_count": 128,
   "id": "44fefb62-c711-4a5e-87ed-877b9cba743b",
   "metadata": {},
   "outputs": [],
   "source": [
    "np.random.seed(5555)"
   ]
  },
  {
   "cell_type": "code",
   "execution_count": 129,
   "id": "33e69030-89a3-4850-84a2-e3fc0a24388f",
   "metadata": {},
   "outputs": [],
   "source": [
    "gold = np.random.randint(low = 0, high = 10, size = (7,7))"
   ]
  },
  {
   "cell_type": "code",
   "execution_count": 131,
   "id": "da319e4b-f21b-447a-955d-8386c5e231e6",
   "metadata": {},
   "outputs": [],
   "source": [
    "loc = np.array([\n",
    "    [0,4],\n",
    "    [2,2],\n",
    "    [2,3],\n",
    "    [5,1],\n",
    "    [6,3]\n",
    "])"
   ]
  },
  {
   "cell_type": "code",
   "execution_count": 132,
   "id": "46ba56a4-dc75-4b9b-b8c5-bcf155dcb418",
   "metadata": {},
   "outputs": [
    {
     "data": {
      "text/plain": [
       "array([0, 2, 2, 5, 6])"
      ]
     },
     "execution_count": 132,
     "metadata": {},
     "output_type": "execute_result"
    }
   ],
   "source": [
    "loc[:,0]"
   ]
  },
  {
   "cell_type": "code",
   "execution_count": 133,
   "id": "93998fbf-5089-41f9-b0d3-393bd33c534a",
   "metadata": {},
   "outputs": [
    {
     "data": {
      "text/plain": [
       "array([4, 2, 3, 1, 3])"
      ]
     },
     "execution_count": 133,
     "metadata": {},
     "output_type": "execute_result"
    }
   ],
   "source": [
    "loc[:,1]"
   ]
  },
  {
   "cell_type": "code",
   "execution_count": 134,
   "id": "91fa7d70-138c-4670-827d-a09fd20b6414",
   "metadata": {},
   "outputs": [
    {
     "data": {
      "text/plain": [
       "np.int64(2)"
      ]
     },
     "execution_count": 134,
     "metadata": {},
     "output_type": "execute_result"
    }
   ],
   "source": [
    "gold[0,4]"
   ]
  },
  {
   "cell_type": "code",
   "execution_count": 136,
   "id": "123db202-a7fa-4d90-8d9f-5c875aba7a52",
   "metadata": {},
   "outputs": [
    {
     "data": {
      "text/plain": [
       "np.int64(20)"
      ]
     },
     "execution_count": 136,
     "metadata": {},
     "output_type": "execute_result"
    }
   ],
   "source": [
    "sum(gold[loc[:,0],loc[:,1]])"
   ]
  },
  {
   "cell_type": "code",
   "execution_count": 138,
   "id": "6338a78c-fab3-47b3-a516-455c9348e51a",
   "metadata": {},
   "outputs": [],
   "source": [
    "chic_fil_a = np.linspace([17,32],[28,36], num = 3, axis = 1)"
   ]
  },
  {
   "cell_type": "code",
   "execution_count": 140,
   "id": "377a69fb-51be-4a64-81db-df9b5172b737",
   "metadata": {},
   "outputs": [],
   "source": [
    "every_dist = np.abs(chic_fil_a - 30)"
   ]
  },
  {
   "cell_type": "code",
   "execution_count": 141,
   "id": "ea0535c8-f7cf-4ecd-89ea-47d93b0bac3f",
   "metadata": {},
   "outputs": [],
   "source": [
    "c_dist = every_dist[[0,1],[2,0]]"
   ]
  },
  {
   "cell_type": "code",
   "execution_count": 143,
   "id": "e954ea45-1532-4b80-a059-9f94e0468c2c",
   "metadata": {},
   "outputs": [
    {
     "data": {
      "text/plain": [
       "array([2., 2.])"
      ]
     },
     "execution_count": 143,
     "metadata": {},
     "output_type": "execute_result"
    }
   ],
   "source": [
    "c_dist"
   ]
  },
  {
   "cell_type": "code",
   "execution_count": 3,
   "id": "9e134390-ab5a-4924-b340-0071cd7bb573",
   "metadata": {},
   "outputs": [],
   "source": [
    "a1 = np.array([[1,2],[3,4]])"
   ]
  },
  {
   "cell_type": "code",
   "execution_count": 4,
   "id": "29db2008-dc1f-4eb0-8c3c-2bfa87f95258",
   "metadata": {},
   "outputs": [
    {
     "data": {
      "text/plain": [
       "array([[1, 2],\n",
       "       [3, 4]])"
      ]
     },
     "execution_count": 4,
     "metadata": {},
     "output_type": "execute_result"
    }
   ],
   "source": [
    "a1"
   ]
  },
  {
   "cell_type": "code",
   "execution_count": 5,
   "id": "c136a3c0-b851-4b3c-b423-5f4d10491ff8",
   "metadata": {},
   "outputs": [],
   "source": [
    "a2 = np.array([1,2])"
   ]
  },
  {
   "cell_type": "code",
   "execution_count": 6,
   "id": "0fa71afc-a930-4b9a-83a2-5efa644ba207",
   "metadata": {},
   "outputs": [
    {
     "data": {
      "text/plain": [
       "array([[1, 4],\n",
       "       [3, 8]])"
      ]
     },
     "execution_count": 6,
     "metadata": {},
     "output_type": "execute_result"
    }
   ],
   "source": [
    "a1 * a2"
   ]
  },
  {
   "cell_type": "code",
   "execution_count": 7,
   "id": "83551b78-49c5-4180-acad-002d437b0149",
   "metadata": {},
   "outputs": [
    {
     "data": {
      "text/plain": [
       "array([[ 3,  6],\n",
       "       [ 9, 12]])"
      ]
     },
     "execution_count": 7,
     "metadata": {},
     "output_type": "execute_result"
    }
   ],
   "source": [
    "a1 * 3"
   ]
  },
  {
   "cell_type": "code",
   "execution_count": 8,
   "id": "133f0768-f0ac-4a26-9122-2395e525bee0",
   "metadata": {},
   "outputs": [
    {
     "data": {
      "text/plain": [
       "(2, 2)"
      ]
     },
     "execution_count": 8,
     "metadata": {},
     "output_type": "execute_result"
    }
   ],
   "source": [
    "a1.shape"
   ]
  },
  {
   "cell_type": "code",
   "execution_count": 10,
   "id": "deadd2e2-3b87-42de-8b5c-7bd87472a935",
   "metadata": {},
   "outputs": [
    {
     "data": {
      "text/plain": [
       "(2,)"
      ]
     },
     "execution_count": 10,
     "metadata": {},
     "output_type": "execute_result"
    }
   ],
   "source": [
    "a2.shape"
   ]
  },
  {
   "cell_type": "code",
   "execution_count": 11,
   "id": "9cc3075e-4217-4435-abd6-c0843b30025a",
   "metadata": {},
   "outputs": [
    {
     "data": {
      "text/plain": [
       "2"
      ]
     },
     "execution_count": 11,
     "metadata": {},
     "output_type": "execute_result"
    }
   ],
   "source": [
    "a1.ndim"
   ]
  },
  {
   "cell_type": "code",
   "execution_count": 12,
   "id": "109f4f55-9011-4930-b5ef-08e1c53583e2",
   "metadata": {},
   "outputs": [
    {
     "data": {
      "text/plain": [
       "array([[1, 2],\n",
       "       [6, 8]])"
      ]
     },
     "execution_count": 12,
     "metadata": {},
     "output_type": "execute_result"
    }
   ],
   "source": [
    "a1 * [[1],[2]]"
   ]
  },
  {
   "cell_type": "code",
   "execution_count": 15,
   "id": "a9dadfe7-1df7-4aef-ac86-02055982e78b",
   "metadata": {},
   "outputs": [
    {
     "data": {
      "text/plain": [
       "(2, 2)"
      ]
     },
     "execution_count": 15,
     "metadata": {},
     "output_type": "execute_result"
    }
   ],
   "source": [
    "a1.shape"
   ]
  },
  {
   "cell_type": "code",
   "execution_count": 18,
   "id": "e66c6710-d762-47f6-835f-ca214d7e112d",
   "metadata": {},
   "outputs": [
    {
     "data": {
      "text/plain": [
       "(1, 2, 2)"
      ]
     },
     "execution_count": 18,
     "metadata": {},
     "output_type": "execute_result"
    }
   ],
   "source": [
    "a1[None,:].shape"
   ]
  },
  {
   "cell_type": "code",
   "execution_count": 19,
   "id": "b58a7ec1-c595-4fd9-8113-6edb0b241ecc",
   "metadata": {},
   "outputs": [
    {
     "data": {
      "text/plain": [
       "array([[1],\n",
       "       [2]])"
      ]
     },
     "execution_count": 19,
     "metadata": {},
     "output_type": "execute_result"
    }
   ],
   "source": [
    "a2[:,None]"
   ]
  },
  {
   "cell_type": "code",
   "execution_count": 20,
   "id": "df7bd6f4-52d2-4ae9-8e27-2494a2b714ce",
   "metadata": {},
   "outputs": [
    {
     "data": {
      "text/plain": [
       "(2,)"
      ]
     },
     "execution_count": 20,
     "metadata": {},
     "output_type": "execute_result"
    }
   ],
   "source": [
    "a2.shape"
   ]
  },
  {
   "cell_type": "code",
   "execution_count": 24,
   "id": "f49ea210-54a4-4ea9-8ee7-b5e36ae1d8b2",
   "metadata": {},
   "outputs": [
    {
     "data": {
      "text/plain": [
       "(2, 1)"
      ]
     },
     "execution_count": 24,
     "metadata": {},
     "output_type": "execute_result"
    }
   ],
   "source": [
    "a2[:,None].shape"
   ]
  },
  {
   "cell_type": "code",
   "execution_count": 25,
   "id": "e776f728-a916-4e3e-9d32-1c043b21999e",
   "metadata": {},
   "outputs": [
    {
     "data": {
      "text/plain": [
       "array([1, 2])"
      ]
     },
     "execution_count": 25,
     "metadata": {},
     "output_type": "execute_result"
    }
   ],
   "source": [
    "a2"
   ]
  },
  {
   "cell_type": "code",
   "execution_count": 26,
   "id": "25467c57-e925-4d19-ac02-21c2d6e61942",
   "metadata": {},
   "outputs": [
    {
     "data": {
      "text/plain": [
       "(2,)"
      ]
     },
     "execution_count": 26,
     "metadata": {},
     "output_type": "execute_result"
    }
   ],
   "source": [
    "a2.shape"
   ]
  },
  {
   "cell_type": "code",
   "execution_count": 27,
   "id": "2954e8f0-554f-4a85-8c71-865639062e31",
   "metadata": {},
   "outputs": [
    {
     "data": {
      "text/plain": [
       "array([[1],\n",
       "       [2]])"
      ]
     },
     "execution_count": 27,
     "metadata": {},
     "output_type": "execute_result"
    }
   ],
   "source": [
    "a2.reshape(2,1)"
   ]
  },
  {
   "cell_type": "code",
   "execution_count": 28,
   "id": "baf2cd0b-ccf5-4796-af7b-cbc5c98f80bb",
   "metadata": {},
   "outputs": [
    {
     "data": {
      "text/plain": [
       "(2,)"
      ]
     },
     "execution_count": 28,
     "metadata": {},
     "output_type": "execute_result"
    }
   ],
   "source": [
    "a2.shape"
   ]
  },
  {
   "cell_type": "code",
   "execution_count": 29,
   "id": "98ead337-8d82-4a98-b967-10f085df5456",
   "metadata": {},
   "outputs": [
    {
     "data": {
      "text/plain": [
       "array([[1, 2],\n",
       "       [3, 4]])"
      ]
     },
     "execution_count": 29,
     "metadata": {},
     "output_type": "execute_result"
    }
   ],
   "source": [
    "a1"
   ]
  },
  {
   "cell_type": "code",
   "execution_count": 30,
   "id": "d107ecb6-383a-4ddd-9318-c6234cf98398",
   "metadata": {},
   "outputs": [
    {
     "data": {
      "text/plain": [
       "(2, 2)"
      ]
     },
     "execution_count": 30,
     "metadata": {},
     "output_type": "execute_result"
    }
   ],
   "source": [
    "a1.shape"
   ]
  },
  {
   "cell_type": "code",
   "execution_count": 31,
   "id": "6e75d63d-a147-48be-a846-b8f23c493ea1",
   "metadata": {},
   "outputs": [
    {
     "data": {
      "text/plain": [
       "array([[1, 2, 3, 4]])"
      ]
     },
     "execution_count": 31,
     "metadata": {},
     "output_type": "execute_result"
    }
   ],
   "source": [
    "a1.reshape(1,4)"
   ]
  },
  {
   "cell_type": "code",
   "execution_count": 32,
   "id": "f36f7bd8-3a61-4fe0-93f5-ac33641068d1",
   "metadata": {},
   "outputs": [
    {
     "data": {
      "text/plain": [
       "(2, 2)"
      ]
     },
     "execution_count": 32,
     "metadata": {},
     "output_type": "execute_result"
    }
   ],
   "source": [
    "a1.shape"
   ]
  },
  {
   "cell_type": "code",
   "execution_count": 33,
   "id": "ad5f8907-4c2f-42a6-a460-4d19ad9dc2c4",
   "metadata": {},
   "outputs": [
    {
     "data": {
      "text/plain": [
       "array([[1, 2],\n",
       "       [3, 4]])"
      ]
     },
     "execution_count": 33,
     "metadata": {},
     "output_type": "execute_result"
    }
   ],
   "source": [
    "a1"
   ]
  },
  {
   "cell_type": "code",
   "execution_count": 34,
   "id": "9ebe168f-8f1e-4d56-9f59-cc46f44fb794",
   "metadata": {},
   "outputs": [],
   "source": [
    "a1 = a1.reshape(1,4)"
   ]
  },
  {
   "cell_type": "code",
   "execution_count": 35,
   "id": "8fd3cbe2-3409-4fa0-8895-bc7aea681c9c",
   "metadata": {},
   "outputs": [
    {
     "data": {
      "text/plain": [
       "array([[1, 2, 3, 4]])"
      ]
     },
     "execution_count": 35,
     "metadata": {},
     "output_type": "execute_result"
    }
   ],
   "source": [
    "a1"
   ]
  },
  {
   "cell_type": "code",
   "execution_count": 36,
   "id": "a9446a90-81f7-4169-9f7d-b85270c60ef0",
   "metadata": {},
   "outputs": [
    {
     "data": {
      "text/plain": [
       "(1, 4)"
      ]
     },
     "execution_count": 36,
     "metadata": {},
     "output_type": "execute_result"
    }
   ],
   "source": [
    "a1.shape"
   ]
  },
  {
   "cell_type": "code",
   "execution_count": 39,
   "id": "d1c3ac8f-1dcc-427a-9b05-fc43799398f4",
   "metadata": {},
   "outputs": [],
   "source": [
    "a1 = a1.reshape(4)"
   ]
  },
  {
   "cell_type": "code",
   "execution_count": 41,
   "id": "9e27e6dc-7ee1-4447-b571-08b552e82dfe",
   "metadata": {},
   "outputs": [
    {
     "data": {
      "text/plain": [
       "(4,)"
      ]
     },
     "execution_count": 41,
     "metadata": {},
     "output_type": "execute_result"
    }
   ],
   "source": [
    "a1.shape"
   ]
  },
  {
   "cell_type": "code",
   "execution_count": 42,
   "id": "5d6814e7-4a66-41aa-86e8-08ec705b996a",
   "metadata": {},
   "outputs": [
    {
     "data": {
      "text/plain": [
       "array([[1, 2],\n",
       "       [3, 4]])"
      ]
     },
     "execution_count": 42,
     "metadata": {},
     "output_type": "execute_result"
    }
   ],
   "source": [
    "np.reshape(a1, (2,2))"
   ]
  },
  {
   "cell_type": "code",
   "execution_count": 43,
   "id": "24efb190-4814-4380-8ee2-106897f0ddcf",
   "metadata": {},
   "outputs": [
    {
     "data": {
      "text/plain": [
       "array([1, 2, 3, 4])"
      ]
     },
     "execution_count": 43,
     "metadata": {},
     "output_type": "execute_result"
    }
   ],
   "source": [
    "a1"
   ]
  },
  {
   "cell_type": "code",
   "execution_count": 44,
   "id": "dd46a542-272e-4e9f-a293-db812befeb1c",
   "metadata": {},
   "outputs": [
    {
     "data": {
      "text/plain": [
       "array([1, 2, 3, 4])"
      ]
     },
     "execution_count": 44,
     "metadata": {},
     "output_type": "execute_result"
    }
   ],
   "source": [
    "a1"
   ]
  },
  {
   "cell_type": "code",
   "execution_count": 45,
   "id": "d1b45561-56fb-4ea7-8615-308d37c53de3",
   "metadata": {},
   "outputs": [],
   "source": [
    "a1.shape = (2,2)"
   ]
  },
  {
   "cell_type": "code",
   "execution_count": 46,
   "id": "8d17841b-1b2a-4418-965a-d2382f862f7f",
   "metadata": {},
   "outputs": [
    {
     "data": {
      "text/plain": [
       "array([[1, 2],\n",
       "       [3, 4]])"
      ]
     },
     "execution_count": 46,
     "metadata": {},
     "output_type": "execute_result"
    }
   ],
   "source": [
    "a1"
   ]
  },
  {
   "cell_type": "code",
   "execution_count": 47,
   "id": "493db4d6-ed04-4b9b-9921-eb60574f8d35",
   "metadata": {},
   "outputs": [
    {
     "data": {
      "text/plain": [
       "array([[1, 3],\n",
       "       [2, 4]])"
      ]
     },
     "execution_count": 47,
     "metadata": {},
     "output_type": "execute_result"
    }
   ],
   "source": [
    "a1.T"
   ]
  },
  {
   "cell_type": "code",
   "execution_count": 48,
   "id": "26fd9e8d-e9ae-4c7e-b48a-d8d21c92b25d",
   "metadata": {},
   "outputs": [
    {
     "data": {
      "text/plain": [
       "array([[1, 3],\n",
       "       [2, 4]])"
      ]
     },
     "execution_count": 48,
     "metadata": {},
     "output_type": "execute_result"
    }
   ],
   "source": [
    "np.transpose(a1)"
   ]
  },
  {
   "cell_type": "code",
   "execution_count": 49,
   "id": "d8d71704-0f97-4479-9ec1-5bc1cabe3b12",
   "metadata": {},
   "outputs": [],
   "source": [
    "a1.shape = (4)"
   ]
  },
  {
   "cell_type": "code",
   "execution_count": 50,
   "id": "bcadd0f1-be0a-40ee-9bb7-5b2dddd4d957",
   "metadata": {},
   "outputs": [
    {
     "data": {
      "text/plain": [
       "array([1, 2, 3, 4])"
      ]
     },
     "execution_count": 50,
     "metadata": {},
     "output_type": "execute_result"
    }
   ],
   "source": [
    "a1"
   ]
  },
  {
   "cell_type": "code",
   "execution_count": 51,
   "id": "dcb04278-9576-4dab-9283-04cffa61dde8",
   "metadata": {},
   "outputs": [
    {
     "data": {
      "text/plain": [
       "array([3, 4])"
      ]
     },
     "execution_count": 51,
     "metadata": {},
     "output_type": "execute_result"
    }
   ],
   "source": [
    "a1[a1 > 2]"
   ]
  },
  {
   "cell_type": "code",
   "execution_count": 53,
   "id": "325ca332-32c1-40ba-a0c1-0562dab5fd7d",
   "metadata": {},
   "outputs": [
    {
     "data": {
      "text/plain": [
       "array([2, 3])"
      ]
     },
     "execution_count": 53,
     "metadata": {},
     "output_type": "execute_result"
    }
   ],
   "source": [
    "a1[(a1 > 1) & (a1 < 4)]"
   ]
  },
  {
   "cell_type": "code",
   "execution_count": 54,
   "id": "6d6c140d-9bd2-44cf-b902-af430a2cb7fc",
   "metadata": {},
   "outputs": [
    {
     "data": {
      "text/plain": [
       "array([1])"
      ]
     },
     "execution_count": 54,
     "metadata": {},
     "output_type": "execute_result"
    }
   ],
   "source": [
    "a1[~(a1 > 1)]"
   ]
  },
  {
   "cell_type": "code",
   "execution_count": 55,
   "id": "b3d16955-bee1-4df1-a50d-84ee92bf09f2",
   "metadata": {},
   "outputs": [
    {
     "data": {
      "text/plain": [
       "array([1, 2, 3, 4])"
      ]
     },
     "execution_count": 55,
     "metadata": {},
     "output_type": "execute_result"
    }
   ],
   "source": [
    "a1"
   ]
  },
  {
   "cell_type": "code",
   "execution_count": 56,
   "id": "9396b20d-ec36-47bc-90d4-c6ef00322009",
   "metadata": {},
   "outputs": [],
   "source": [
    "ax = np.ones([3,3])"
   ]
  },
  {
   "cell_type": "code",
   "execution_count": 57,
   "id": "007cfb82-99e0-4cad-9bea-28f02a840fc3",
   "metadata": {},
   "outputs": [
    {
     "data": {
      "text/plain": [
       "array([[1., 1., 1.],\n",
       "       [1., 1., 1.],\n",
       "       [1., 1., 1.]])"
      ]
     },
     "execution_count": 57,
     "metadata": {},
     "output_type": "execute_result"
    }
   ],
   "source": [
    "ax"
   ]
  },
  {
   "cell_type": "code",
   "execution_count": 59,
   "id": "369f17d3-599d-40a3-b50c-c8e54c53d546",
   "metadata": {},
   "outputs": [
    {
     "data": {
      "text/plain": [
       "array([[False, False, False],\n",
       "       [False, False, False],\n",
       "       [False, False, False]])"
      ]
     },
     "execution_count": 59,
     "metadata": {},
     "output_type": "execute_result"
    }
   ],
   "source": [
    "np.isnan(ax)"
   ]
  },
  {
   "cell_type": "code",
   "execution_count": 60,
   "id": "6771d4f7-0cbe-4674-8c6e-31e70d73857e",
   "metadata": {},
   "outputs": [
    {
     "data": {
      "text/plain": [
       "(3, 3)"
      ]
     },
     "execution_count": 60,
     "metadata": {},
     "output_type": "execute_result"
    }
   ],
   "source": [
    "ax.shape"
   ]
  },
  {
   "cell_type": "code",
   "execution_count": 61,
   "id": "aed5f43f-64dd-4101-962f-2ff06bcfa617",
   "metadata": {},
   "outputs": [
    {
     "data": {
      "text/plain": [
       "2"
      ]
     },
     "execution_count": 61,
     "metadata": {},
     "output_type": "execute_result"
    }
   ],
   "source": [
    "ax.ndim"
   ]
  },
  {
   "cell_type": "code",
   "execution_count": 64,
   "id": "645626d3-e378-4bc3-875b-a7fdd9b80e6e",
   "metadata": {},
   "outputs": [],
   "source": [
    "ax[0,1] = np.nan"
   ]
  },
  {
   "cell_type": "code",
   "execution_count": 65,
   "id": "d78edd3b-fc09-41f9-8458-5ca8286c7e6f",
   "metadata": {},
   "outputs": [
    {
     "data": {
      "text/plain": [
       "array([[ 1., nan,  1.],\n",
       "       [ 1.,  1.,  1.],\n",
       "       [ 1.,  1.,  1.]])"
      ]
     },
     "execution_count": 65,
     "metadata": {},
     "output_type": "execute_result"
    }
   ],
   "source": [
    "ax"
   ]
  },
  {
   "cell_type": "code",
   "execution_count": 66,
   "id": "007fc276-d07a-4cfc-b066-6036b8400f1d",
   "metadata": {},
   "outputs": [
    {
     "data": {
      "text/plain": [
       "array([[False,  True, False],\n",
       "       [False, False, False],\n",
       "       [False, False, False]])"
      ]
     },
     "execution_count": 66,
     "metadata": {},
     "output_type": "execute_result"
    }
   ],
   "source": [
    "np.isnan(ax)"
   ]
  },
  {
   "cell_type": "code",
   "execution_count": 67,
   "id": "7c933e23-08e1-4841-8de9-d91857c330b1",
   "metadata": {},
   "outputs": [
    {
     "data": {
      "text/plain": [
       "inf"
      ]
     },
     "execution_count": 67,
     "metadata": {},
     "output_type": "execute_result"
    }
   ],
   "source": [
    "np.inf"
   ]
  },
  {
   "cell_type": "code",
   "execution_count": 70,
   "id": "0cac7703-81ef-4a97-87c3-022b428f1066",
   "metadata": {},
   "outputs": [
    {
     "data": {
      "text/plain": [
       "-inf"
      ]
     },
     "execution_count": 70,
     "metadata": {},
     "output_type": "execute_result"
    }
   ],
   "source": [
    "-np.inf"
   ]
  },
  {
   "cell_type": "code",
   "execution_count": 77,
   "id": "9a8f43d5-4304-461f-96ef-d246dc746000",
   "metadata": {},
   "outputs": [
    {
     "data": {
      "text/plain": [
       "inf"
      ]
     },
     "execution_count": 77,
     "metadata": {},
     "output_type": "execute_result"
    }
   ],
   "source": [
    "np.inf - -np.inf"
   ]
  },
  {
   "cell_type": "code",
   "execution_count": 78,
   "id": "8951d2aa-4a4b-48fc-8b11-382fe8b82c4d",
   "metadata": {},
   "outputs": [],
   "source": [
    "a = np.inf"
   ]
  },
  {
   "cell_type": "code",
   "execution_count": 79,
   "id": "190e8ed3-1c85-493c-9ea5-a0d97f1d9ad2",
   "metadata": {},
   "outputs": [
    {
     "data": {
      "text/plain": [
       "inf"
      ]
     },
     "execution_count": 79,
     "metadata": {},
     "output_type": "execute_result"
    }
   ],
   "source": [
    "a"
   ]
  },
  {
   "cell_type": "code",
   "execution_count": 80,
   "id": "87798ad4-6dd1-4e01-8155-392117c2e8af",
   "metadata": {},
   "outputs": [],
   "source": [
    "b = -np.inf"
   ]
  },
  {
   "cell_type": "code",
   "execution_count": 81,
   "id": "a09a0732-3a7a-47ca-a6a5-51d38cb5ee3b",
   "metadata": {},
   "outputs": [
    {
     "data": {
      "text/plain": [
       "-inf"
      ]
     },
     "execution_count": 81,
     "metadata": {},
     "output_type": "execute_result"
    }
   ],
   "source": [
    "b"
   ]
  },
  {
   "cell_type": "code",
   "execution_count": 82,
   "id": "99881c06-830e-4992-bc02-2c505a7b7680",
   "metadata": {},
   "outputs": [
    {
     "data": {
      "text/plain": [
       "inf"
      ]
     },
     "execution_count": 82,
     "metadata": {},
     "output_type": "execute_result"
    }
   ],
   "source": [
    "a - b"
   ]
  },
  {
   "cell_type": "code",
   "execution_count": null,
   "id": "15c300ee-26ec-409b-8e6f-d2479500c730",
   "metadata": {},
   "outputs": [],
   "source": []
  }
 ],
 "metadata": {
  "kernelspec": {
   "display_name": "Python 3 (ipykernel)",
   "language": "python",
   "name": "python3"
  },
  "language_info": {
   "codemirror_mode": {
    "name": "ipython",
    "version": 3
   },
   "file_extension": ".py",
   "mimetype": "text/x-python",
   "name": "python",
   "nbconvert_exporter": "python",
   "pygments_lexer": "ipython3",
   "version": "3.13.7"
  }
 },
 "nbformat": 4,
 "nbformat_minor": 5
}
